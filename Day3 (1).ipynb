{
  "nbformat": 4,
  "nbformat_minor": 0,
  "metadata": {
    "colab": {
      "name": "Day3.ipynb",
      "provenance": []
    },
    "kernelspec": {
      "name": "python3",
      "display_name": "Python 3"
    }
  },
  "cells": [
    {
      "cell_type": "code",
      "metadata": {
        "id": "a9FDbqVdmXL9",
        "colab_type": "code",
        "colab": {
          "base_uri": "https://localhost:8080/",
          "height": 408
        },
        "outputId": "6a5818a7-1079-41e5-a91d-107feb5b6279"
      },
      "source": [
        "# Program to check Armstrong numbers in a certain interval\n",
        "lower = 1042000\n",
        "upper = 702648265 \n",
        "for num in range(lower, upper + 1):    \n",
        "  # order of number   \n",
        "  order = len(str(num))       \n",
        "  # initialize sum   \n",
        "  sum = 0    \n",
        "  temp = num   \n",
        "  while temp > 0:       \n",
        "    digit = temp % 10       \n",
        "    sum += digit ** order       \n",
        "    temp //= 10    \n",
        "    if num == sum:       \n",
        "      print(num)"
      ],
      "execution_count": 1,
      "outputs": [
        {
          "output_type": "stream",
          "text": [
            "1741725\n",
            "2097280\n",
            "2097281\n",
            "3278756\n",
            "4210818\n",
            "4782969\n",
            "4861095\n",
            "9800817\n",
            "9926315\n",
            "16790338\n",
            "16790338\n",
            "21816066\n",
            "24678050\n",
            "24678051\n",
            "26682755\n",
            "88593477\n",
            "134217728\n",
            "146511208\n",
            "178477585\n",
            "387420489\n",
            "472335975\n",
            "534494836\n",
            "657809582\n"
          ],
          "name": "stdout"
        }
      ]
    }
  ]
}